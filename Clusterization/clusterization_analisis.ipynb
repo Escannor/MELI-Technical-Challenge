{
 "cells": [
  {
   "cell_type": "code",
   "execution_count": 12,
   "metadata": {},
   "outputs": [
    {
     "name": "stdout",
     "output_type": "stream",
     "text": [
      "Requirement already satisfied: tqdm in c:\\python311\\lib\\site-packages (4.67.1)\n",
      "Requirement already satisfied: colorama in c:\\users\\artur\\appdata\\roaming\\python\\python311\\site-packages (from tqdm) (0.4.6)\n",
      "Note: you may need to restart the kernel to use updated packages.\n"
     ]
    },
    {
     "name": "stderr",
     "output_type": "stream",
     "text": [
      "\n",
      "[notice] A new release of pip is available: 23.1.2 -> 24.3.1\n",
      "[notice] To update, run: python.exe -m pip install --upgrade pip\n"
     ]
    }
   ],
   "source": [
    "# install\n",
    "%pip install tqdm"
   ]
  },
  {
   "cell_type": "code",
   "execution_count": 1,
   "metadata": {},
   "outputs": [],
   "source": [
    "# Libraries\n",
    "import requests\n",
    "import json\n",
    "from tqdm import tqdm\n",
    "import pandas as pd\n",
    "from sklearn.cluster import KMeans"
   ]
  },
  {
   "cell_type": "code",
   "execution_count": 2,
   "metadata": {},
   "outputs": [],
   "source": [
    "# GLOBAL VARIABLES\n",
    "country = 'MLM'\n",
    "category = 'MLM1648'  # example_categories.json\n",
    "start_offset = 0\n",
    "end_offset = 100  # 1000 top items"
   ]
  },
  {
   "cell_type": "code",
   "execution_count": 17,
   "metadata": {},
   "outputs": [
    {
     "name": "stderr",
     "output_type": "stream",
     "text": [
      "Fetching paginated data: 100%|██████████| 21/21 [00:11<00:00,  1.88it/s]"
     ]
    },
    {
     "name": "stdout",
     "output_type": "stream",
     "text": [
      "              id   seller_id   price  original_price  available_quantity\n",
      "0  MLM2023658727   581496608  6299.0          6499.0                   1\n",
      "1  MLM3374476492   276696598  2185.5          2350.0                   1\n",
      "2  MLM1988713103   226900267  2899.0             NaN                 500\n",
      "3  MLM3414839820  1331658732  3699.0             NaN                 500\n",
      "4   MLM931980768   414112680   349.0             NaN                 500\n"
     ]
    },
    {
     "name": "stderr",
     "output_type": "stream",
     "text": [
      "\n"
     ]
    }
   ],
   "source": [
    "def fetch_paginated_data_to_df_filtered(category, country, start_offset, end_offset):\n",
    "    base_url = \"https://api.mercadolibre.com/sites/\"\n",
    "    all_data = []\n",
    "    \n",
    "    for offset in tqdm(range(start_offset, end_offset + 1, 50), desc=\"Fetching paginated data\"):\n",
    "        # Construct the URL with the given parameters\n",
    "        url = f\"{base_url}{country}/search?category={category}&offset={offset}\"\n",
    "        \n",
    "        # Make the API call\n",
    "        response = requests.get(url)\n",
    "        \n",
    "        # Check if the call was successful\n",
    "        if response.status_code == 200:\n",
    "            # Parse the JSON response\n",
    "            data = response.json()\n",
    "            \n",
    "            # Extract the required fields\n",
    "            for item in data.get('results', []):\n",
    "                filtered_item = {\n",
    "                    'id': item.get('id'),\n",
    "                    'seller_id': item.get('seller', {}).get('id'),\n",
    "                    'price': item.get('price'),\n",
    "                    'original_price': item.get('original_price'),\n",
    "                    'available_quantity': item.get('available_quantity'),\n",
    "                }\n",
    "                all_data.append(filtered_item)\n",
    "        else:\n",
    "            print(f\"Error in the API call at offset {offset}\")\n",
    "    \n",
    "    # Create a DataFrame from the filtered data\n",
    "    df_filtered = pd.DataFrame(all_data)\n",
    "    \n",
    "    return df_filtered\n",
    "\n",
    "\n",
    "# Call the function\n",
    "df_filtered_paginated_data = fetch_paginated_data_to_df_filtered(category, country, start_offset, end_offset)\n",
    "print(df_filtered_paginated_data.head())"
   ]
  },
  {
   "cell_type": "markdown",
   "metadata": {},
   "source": [
    "### Items metrics"
   ]
  },
  {
   "cell_type": "code",
   "execution_count": 11,
   "metadata": {
    "vscode": {
     "languageId": "shellscript"
    }
   },
   "outputs": [
    {
     "name": "stderr",
     "output_type": "stream",
     "text": [
      "Fetching item info:   0%|          | 0/997 [00:00<?, ?it/s]"
     ]
    },
    {
     "name": "stderr",
     "output_type": "stream",
     "text": [
      "Fetching item info: 100%|██████████| 997/997 [03:02<00:00,  5.47it/s]"
     ]
    },
    {
     "name": "stdout",
     "output_type": "stream",
     "text": [
      "              id   seller_id   price  base_price  original_price  \\\n",
      "0  MLM2023658727   581496608  6499.0      6499.0          6499.0   \n",
      "1  MLM3374476492   276696598  2350.0      2350.0             NaN   \n",
      "2  MLM1988713103   226900267  2899.0      2899.0             NaN   \n",
      "3  MLM3414839820  1331658732  3699.0      3699.0             NaN   \n",
      "4   MLM931980768   414112680   349.0       349.0             NaN   \n",
      "\n",
      "   initial_quantity available_quantity sold_quantity  health  \\\n",
      "0               399               None          None     NaN   \n",
      "1               916               None          None     1.0   \n",
      "2              3010               None          None     NaN   \n",
      "3              1123               None          None     NaN   \n",
      "4             43509               None          None     NaN   \n",
      "\n",
      "               date_created              last_updated  \n",
      "0  2024-02-22T17:20:34.000Z  2024-12-10T04:07:41.965Z  \n",
      "1  2024-09-23T02:18:59.069Z  2024-12-10T04:11:49.318Z  \n",
      "2  2023-12-05T23:44:32.000Z  2024-12-10T03:43:00.929Z  \n",
      "3  2024-10-16T16:55:58.917Z  2024-12-10T03:00:06.579Z  \n",
      "4  2021-06-13T02:46:27.000Z  2024-12-10T04:20:51.023Z  \n"
     ]
    },
    {
     "name": "stderr",
     "output_type": "stream",
     "text": [
      "\n"
     ]
    }
   ],
   "source": [
    "def get_item_info(item_ids):\n",
    "    all_response = []\n",
    "\n",
    "    for item_id in tqdm(item_ids, desc=\"Fetching item info\"):\n",
    "        url = f\"https://api.mercadolibre.com/items/{item_id}\"\n",
    "        response = requests.get(url)\n",
    "\n",
    "        if response.status_code == 200:\n",
    "            item_data = response.json()\n",
    "            filtered_item = {\n",
    "                'id': item_data.get('id'),\n",
    "                'seller_id': item_data.get('seller_id'),\n",
    "                'price': item_data.get('price'),\n",
    "                'base_price': item_data.get('base_price'),\n",
    "                'original_price': item_data.get('original_price'),\n",
    "                'initial_quantity': item_data.get('initial_quantity'),\n",
    "                'available_quantity': item_data.get('available_quantity'),\n",
    "                'sold_quantity': item_data.get('sold_quantity'),\n",
    "                'health': item_data.get('health'),\n",
    "                'date_created': item_data.get('date_created'),\n",
    "                'last_updated': item_data.get('last_updated')\n",
    "            }\n",
    "            all_response.append(filtered_item)\n",
    "        else:\n",
    "            print(f\"Error: {response.status_code}\")\n",
    "    \n",
    "    # Convert the response to a DataFrame\n",
    "    df_item_info = pd.DataFrame(all_response)\n",
    "        \n",
    "    return df_item_info\n",
    "\n",
    "# Example: Replace 'ITEM_ID' with a real ID\n",
    "item_ids = df_filtered_paginated_data['id'].unique().tolist()\n",
    "df_item_info = get_item_info(item_ids)\n",
    "\n",
    "if df_item_info is not None:\n",
    "    print(df_item_info.head())\n"
   ]
  },
  {
   "cell_type": "code",
   "execution_count": 18,
   "metadata": {},
   "outputs": [
    {
     "name": "stdout",
     "output_type": "stream",
     "text": [
      "              id  seller_id_filtered  price_filtered  original_price_filtered  \\\n",
      "0  MLM2023658727           581496608          6299.0                   6499.0   \n",
      "1  MLM3374476492           276696598          2185.5                   2350.0   \n",
      "2  MLM1988713103           226900267          2899.0                      NaN   \n",
      "3  MLM3414839820          1331658732          3699.0                      NaN   \n",
      "4   MLM931980768           414112680           349.0                      NaN   \n",
      "\n",
      "   available_quantity_filtered  seller_id_item_info  price_item_info  \\\n",
      "0                            1            581496608           6499.0   \n",
      "1                            1            276696598           2350.0   \n",
      "2                          500            226900267           2899.0   \n",
      "3                          500           1331658732           3699.0   \n",
      "4                          500            414112680            349.0   \n",
      "\n",
      "   base_price  original_price_item_info  initial_quantity  \\\n",
      "0      6499.0                    6499.0               399   \n",
      "1      2350.0                       NaN               916   \n",
      "2      2899.0                       NaN              3010   \n",
      "3      3699.0                       NaN              1123   \n",
      "4       349.0                       NaN             43509   \n",
      "\n",
      "  available_quantity_item_info sold_quantity  health  \\\n",
      "0                         None          None     NaN   \n",
      "1                         None          None     1.0   \n",
      "2                         None          None     NaN   \n",
      "3                         None          None     NaN   \n",
      "4                         None          None     NaN   \n",
      "\n",
      "               date_created              last_updated  \n",
      "0  2024-02-22T17:20:34.000Z  2024-12-10T04:07:41.965Z  \n",
      "1  2024-09-23T02:18:59.069Z  2024-12-10T04:11:49.318Z  \n",
      "2  2023-12-05T23:44:32.000Z  2024-12-10T03:43:00.929Z  \n",
      "3  2024-10-16T16:55:58.917Z  2024-12-10T03:00:06.579Z  \n",
      "4  2021-06-13T02:46:27.000Z  2024-12-10T04:20:51.023Z  \n"
     ]
    }
   ],
   "source": [
    "# Perform the join of df_filtered_paginated_data with df_item_info using the 'id' column\n",
    "df_items = pd.merge(df_filtered_paginated_data, df_item_info, on='id', suffixes=('_filtered', '_item_info'))\n",
    "\n",
    "# Display the first rows of the resulting DataFrame\n",
    "print(df_items.head())"
   ]
  },
  {
   "cell_type": "code",
   "execution_count": 23,
   "metadata": {
    "vscode": {
     "languageId": "shellscript"
    }
   },
   "outputs": [
    {
     "name": "stdout",
     "output_type": "stream",
     "text": [
      "              id  seller_id_filtered  price_filtered  original_price_filtered  \\\n",
      "0  MLM2023658727           581496608          6299.0                   6499.0   \n",
      "1  MLM3374476492           276696598          2185.5                   2350.0   \n",
      "2  MLM1988713103           226900267          2899.0                      NaN   \n",
      "3  MLM3414839820          1331658732          3699.0                      NaN   \n",
      "4   MLM931980768           414112680           349.0                      NaN   \n",
      "\n",
      "   available_quantity_filtered  seller_id_item_info  price_item_info  \\\n",
      "0                            1            581496608           6499.0   \n",
      "1                            1            276696598           2350.0   \n",
      "2                          500            226900267           2899.0   \n",
      "3                          500           1331658732           3699.0   \n",
      "4                          500            414112680            349.0   \n",
      "\n",
      "   base_price  original_price_item_info  initial_quantity  \\\n",
      "0      6499.0                    6499.0               399   \n",
      "1      2350.0                       NaN               916   \n",
      "2      2899.0                       NaN              3010   \n",
      "3      3699.0                       NaN              1123   \n",
      "4       349.0                       NaN             43509   \n",
      "\n",
      "  available_quantity_item_info sold_quantity  health  \\\n",
      "0                         None          None     NaN   \n",
      "1                         None          None     1.0   \n",
      "2                         None          None     NaN   \n",
      "3                         None          None     NaN   \n",
      "4                         None          None     NaN   \n",
      "\n",
      "               date_created              last_updated  has_original_price  \\\n",
      "0  2024-02-22T17:20:34.000Z  2024-12-10T04:07:41.965Z                   1   \n",
      "1  2024-09-23T02:18:59.069Z  2024-12-10T04:11:49.318Z                   1   \n",
      "2  2023-12-05T23:44:32.000Z  2024-12-10T03:43:00.929Z                   0   \n",
      "3  2024-10-16T16:55:58.917Z  2024-12-10T03:00:06.579Z                   0   \n",
      "4  2021-06-13T02:46:27.000Z  2024-12-10T04:20:51.023Z                   0   \n",
      "\n",
      "   discount_percentage  has_health_info  item_age_days  \n",
      "0             3.077397                0            291  \n",
      "1             7.000000                1             77  \n",
      "2             0.000000                0            369  \n",
      "3             0.000000                0             54  \n",
      "4             0.000000                0           1275  \n"
     ]
    }
   ],
   "source": [
    "# Create a new column indicating if the original price is available\n",
    "df_items['has_original_price'] = df_items['original_price_filtered'].notnull().astype(int)\n",
    "\n",
    "# Create a new column calculating the discount percentage\n",
    "df_items['discount_percentage'] = ((df_items['original_price_filtered'] - df_items['price_filtered']) / df_items['original_price_filtered']) * 100\n",
    "\n",
    "# Fill NaN values in the discount column with 0 (no discount)\n",
    "df_items['discount_percentage'].fillna(0, inplace=True)\n",
    "\n",
    "# Create a new column indicating if the item has health information\n",
    "df_items['has_health_info'] = df_items['health'].notnull().astype(int)\n",
    "\n",
    "# Create a new column calculating the age of the item in days since it was created\n",
    "df_items['item_age_days'] = (pd.to_datetime('today').tz_localize(None) - pd.to_datetime(df_items['date_created']).dt.tz_localize(None)).dt.days\n",
    "\n",
    "print(df_items.head())"
   ]
  },
  {
   "cell_type": "code",
   "execution_count": 25,
   "metadata": {
    "vscode": {
     "languageId": "shellscript"
    }
   },
   "outputs": [
    {
     "data": {
      "text/plain": [
       "Index(['id', 'seller_id_filtered', 'price_filtered', 'original_price_filtered',\n",
       "       'available_quantity_filtered', 'seller_id_item_info', 'price_item_info',\n",
       "       'base_price', 'original_price_item_info', 'initial_quantity',\n",
       "       'available_quantity_item_info', 'sold_quantity', 'health',\n",
       "       'date_created', 'last_updated', 'has_original_price',\n",
       "       'discount_percentage', 'has_health_info', 'item_age_days'],\n",
       "      dtype='object')"
      ]
     },
     "execution_count": 25,
     "metadata": {},
     "output_type": "execute_result"
    }
   ],
   "source": [
    "df_items.columns"
   ]
  },
  {
   "cell_type": "code",
   "execution_count": 27,
   "metadata": {},
   "outputs": [
    {
     "name": "stdout",
     "output_type": "stream",
     "text": [
      "   seller_id  item_count  avg_price  min_price  max_price  avg_original_price  \\\n",
      "0    4881115           1   249.0000     249.00     249.00                 NaN   \n",
      "1   10265533           2   496.9950     495.00     498.99                 NaN   \n",
      "2   23299053           1   470.2500     470.25     470.25             495.000   \n",
      "3   23838355          32  9589.5625    5679.29   19599.00           13270.875   \n",
      "4   25926835           1    64.9900      64.99      64.99                 NaN   \n",
      "\n",
      "   min_original_price  max_original_price  total_available_quantity  \\\n",
      "0                 NaN                 NaN                       500   \n",
      "1                 NaN                 NaN                         2   \n",
      "2               495.0               495.0                         1   \n",
      "3              7999.0             26999.0                      1419   \n",
      "4                 NaN                 NaN                        50   \n",
      "\n",
      "   avg_discount_percentage  min_discount_percentage  max_discount_percentage  \\\n",
      "0                 0.000000                      0.0                 0.000000   \n",
      "1                 0.000000                      0.0                 0.000000   \n",
      "2                 5.000000                      5.0                 5.000000   \n",
      "3                27.787799                     17.0                38.762695   \n",
      "4                 0.000000                      0.0                 0.000000   \n",
      "\n",
      "   avg_health  min_health  max_health  avg_item_age_days  min_item_age_days  \\\n",
      "0         NaN         NaN         NaN            84.0000                 84   \n",
      "1         NaN         NaN         NaN           149.5000                126   \n",
      "2         NaN         NaN         NaN           220.0000                220   \n",
      "3        0.87        0.87        0.87           219.4375                 24   \n",
      "4         NaN         NaN         NaN           386.0000                386   \n",
      "\n",
      "   max_item_age_days  \n",
      "0                 84  \n",
      "1                173  \n",
      "2                220  \n",
      "3               1402  \n",
      "4                386  \n"
     ]
    }
   ],
   "source": [
    "# Group by seller_id and calculate metrics\n",
    "seller_metrics = df_items.groupby('seller_id_filtered').agg({\n",
    "    'id': 'count',  # Number of items\n",
    "    'price_filtered': ['mean', 'min', 'max'],  # Average, minimum, and maximum price\n",
    "    'original_price_filtered': ['mean', 'min', 'max'],  # Average, minimum, and maximum original price\n",
    "    'available_quantity_filtered': 'sum',  # Total available quantity\n",
    "    'discount_percentage': ['mean', 'min', 'max'],  # Average, minimum, and maximum discount percentage\n",
    "    'health': ['mean', 'min', 'max'],  # Average, minimum, and maximum health\n",
    "    'item_age_days': ['mean', 'min', 'max']  # Average, minimum, and maximum item age in days\n",
    "}).reset_index()\n",
    "\n",
    "# Rename columns for better readability\n",
    "seller_metrics.columns = ['seller_id', 'item_count', 'avg_price', 'min_price', 'max_price', \n",
    "                          'avg_original_price', 'min_original_price', 'max_original_price', \n",
    "                          'total_available_quantity', 'avg_discount_percentage', \n",
    "                          'min_discount_percentage', 'max_discount_percentage',\n",
    "                          'avg_health', 'min_health', 'max_health', \n",
    "                          'avg_item_age_days', 'min_item_age_days', 'max_item_age_days']\n",
    "\n",
    "print(seller_metrics.head())"
   ]
  },
  {
   "cell_type": "markdown",
   "metadata": {},
   "source": [
    "### Seller data"
   ]
  },
  {
   "cell_type": "code",
   "execution_count": 28,
   "metadata": {},
   "outputs": [
    {
     "name": "stderr",
     "output_type": "stream",
     "text": [
      "Fetching seller info: 100%|██████████| 426/426 [01:17<00:00,  5.53it/s]\n"
     ]
    },
    {
     "name": "stdout",
     "output_type": "stream",
     "text": [
      "         id                nickname user_type site_id  \\\n",
      "0   4881115             ZUGARS GAME    normal     MLM   \n",
      "1  10265533                  RYSCOM     brand     MLM   \n",
      "2  23299053                  DALKOM    normal     MLM   \n",
      "3  23838355              GRUPODECME     brand     MLM   \n",
      "4  25926835  RIVA IMPORTACIONES.GDL    normal     MLM   \n",
      "\n",
      "                                           permalink level_id  \\\n",
      "0      http://perfil.mercadolibre.com.mx/ZUGARS+GAME  5_green   \n",
      "1           http://perfil.mercadolibre.com.mx/RYSCOM  5_green   \n",
      "2           http://perfil.mercadolibre.com.mx/DALKOM  5_green   \n",
      "3       http://perfil.mercadolibre.com.mx/GRUPODECME  5_green   \n",
      "4  http://perfil.mercadolibre.com.mx/RIVA+IMPORTA...  5_green   \n",
      "\n",
      "  power_seller_status  transactions_total  status  \n",
      "0            platinum               43036  active  \n",
      "1            platinum               10853  active  \n",
      "2            platinum                7448  active  \n",
      "3            platinum              230004  active  \n",
      "4                gold               12230  active  \n"
     ]
    }
   ],
   "source": [
    "def get_seller_info(seller_ids):\n",
    "    all_seller_data = []\n",
    "\n",
    "    for seller_id in tqdm(seller_ids, desc=\"Fetching seller info\"):\n",
    "        url = f\"https://api.mercadolibre.com/users/{seller_id}\"\n",
    "        response = requests.get(url)\n",
    "\n",
    "        if response.status_code == 200:\n",
    "            seller_data = response.json()\n",
    "            filtered_seller_data = {\n",
    "                'id': seller_data.get('id'),\n",
    "                'nickname': seller_data.get('nickname'),\n",
    "                'user_type': seller_data.get('user_type'),\n",
    "                'site_id': seller_data.get('site_id'),\n",
    "                'permalink': seller_data.get('permalink'),\n",
    "                'level_id': seller_data.get('seller_reputation', {}).get('level_id'),\n",
    "                'power_seller_status': seller_data.get('seller_reputation', {}).get('power_seller_status'),\n",
    "                'transactions_total': seller_data.get('seller_reputation', {}).get('transactions', {}).get('total'),\n",
    "                'status': seller_data.get('status', {}).get('site_status')\n",
    "            }\n",
    "            all_seller_data.append(filtered_seller_data)\n",
    "        else:\n",
    "            print(f\"Error: {response.status_code} for seller_id {seller_id}\")\n",
    "\n",
    "    # Convert the list of seller data to a DataFrame\n",
    "    df_seller_info = pd.DataFrame(all_seller_data)\n",
    "    \n",
    "    return df_seller_info\n",
    "\n",
    "# Example usage: Replace 'SELLER_ID_LIST' with a real list of seller IDs\n",
    "seller_ids = seller_metrics['seller_id'].unique().tolist()\n",
    "df_seller_info = get_seller_info(seller_ids)\n",
    "\n",
    "if df_seller_info is not None:\n",
    "    print(df_seller_info.head())"
   ]
  },
  {
   "cell_type": "code",
   "execution_count": 29,
   "metadata": {},
   "outputs": [
    {
     "name": "stdout",
     "output_type": "stream",
     "text": [
      "         id                nickname user_type site_id  \\\n",
      "0   4881115             ZUGARS GAME    normal     MLM   \n",
      "1  10265533                  RYSCOM     brand     MLM   \n",
      "2  23299053                  DALKOM    normal     MLM   \n",
      "3  23838355              GRUPODECME     brand     MLM   \n",
      "4  25926835  RIVA IMPORTACIONES.GDL    normal     MLM   \n",
      "\n",
      "                                           permalink level_id  \\\n",
      "0      http://perfil.mercadolibre.com.mx/ZUGARS+GAME  5_green   \n",
      "1           http://perfil.mercadolibre.com.mx/RYSCOM  5_green   \n",
      "2           http://perfil.mercadolibre.com.mx/DALKOM  5_green   \n",
      "3       http://perfil.mercadolibre.com.mx/GRUPODECME  5_green   \n",
      "4  http://perfil.mercadolibre.com.mx/RIVA+IMPORTA...  5_green   \n",
      "\n",
      "  power_seller_status  transactions_total  status  seller_id  ...  \\\n",
      "0            platinum               43036  active    4881115  ...   \n",
      "1            platinum               10853  active   10265533  ...   \n",
      "2            platinum                7448  active   23299053  ...   \n",
      "3            platinum              230004  active   23838355  ...   \n",
      "4                gold               12230  active   25926835  ...   \n",
      "\n",
      "   total_available_quantity  avg_discount_percentage  min_discount_percentage  \\\n",
      "0                       500                 0.000000                      0.0   \n",
      "1                         2                 0.000000                      0.0   \n",
      "2                         1                 5.000000                      5.0   \n",
      "3                      1419                27.787799                     17.0   \n",
      "4                        50                 0.000000                      0.0   \n",
      "\n",
      "   max_discount_percentage  avg_health  min_health  max_health  \\\n",
      "0                 0.000000         NaN         NaN         NaN   \n",
      "1                 0.000000         NaN         NaN         NaN   \n",
      "2                 5.000000         NaN         NaN         NaN   \n",
      "3                38.762695        0.87        0.87        0.87   \n",
      "4                 0.000000         NaN         NaN         NaN   \n",
      "\n",
      "   avg_item_age_days  min_item_age_days  max_item_age_days  \n",
      "0            84.0000                 84                 84  \n",
      "1           149.5000                126                173  \n",
      "2           220.0000                220                220  \n",
      "3           219.4375                 24               1402  \n",
      "4           386.0000                386                386  \n",
      "\n",
      "[5 rows x 27 columns]\n"
     ]
    }
   ],
   "source": [
    "# Perform the join of df_seller_info with seller_metrics using the 'seller_id' column\n",
    "df_seller_final = pd.merge(df_seller_info, seller_metrics, left_on='id', right_on='seller_id')\n",
    "\n",
    "# Display the first rows of the resulting DataFrame\n",
    "print(df_seller_final.head())"
   ]
  },
  {
   "cell_type": "code",
   "execution_count": null,
   "metadata": {},
   "outputs": [],
   "source": []
  }
 ],
 "metadata": {
  "kernelspec": {
   "display_name": "Python 3",
   "language": "python",
   "name": "python3"
  },
  "language_info": {
   "codemirror_mode": {
    "name": "ipython",
    "version": 3
   },
   "file_extension": ".py",
   "mimetype": "text/x-python",
   "name": "python",
   "nbconvert_exporter": "python",
   "pygments_lexer": "ipython3",
   "version": "3.11.4"
  }
 },
 "nbformat": 4,
 "nbformat_minor": 2
}
